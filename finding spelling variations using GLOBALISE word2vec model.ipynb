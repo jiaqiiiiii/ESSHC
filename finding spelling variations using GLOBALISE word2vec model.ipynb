{
 "cells": [
  {
   "cell_type": "code",
   "execution_count": null,
   "id": "a256da7a",
   "metadata": {},
   "outputs": [],
   "source": [
    "### Notebook to analyse semantic change around ethnic, religious, and caste categories in the selected GM\n",
    "### ESSHC 2025\n",
    "\n",
    "### Author: jiaqi.zhu@dh.huc.knaw.nl "
   ]
  },
  {
   "cell_type": "code",
   "execution_count": null,
   "id": "1a053c7f",
   "metadata": {},
   "outputs": [],
   "source": [
    "### in this notebook, I import the Word2Vec model trained on the GLOBALISE Transcriptions by the Globalise team to find spelling variations of my words of interest \n",
    "### link: https://github.com/globalise-huygens/lab.globalise.huygens.knaw.nl/blob/main/docs/experiments/GLOBALISE_Word2Vec_Lab.ipynb"
   ]
  },
  {
   "cell_type": "markdown",
   "id": "1dce7ffb",
   "metadata": {},
   "source": [
    "### Loading the model"
   ]
  },
  {
   "cell_type": "code",
   "execution_count": 1,
   "id": "0ddd32db",
   "metadata": {},
   "outputs": [],
   "source": [
    "import os\n",
    "import sys\n",
    "import logging\n",
    "import pickle\n",
    "\n",
    "from gensim.models import Word2Vec, KeyedVectors\n",
    "\n",
    "vector_size = 100\n",
    "\n",
    "w2v = KeyedVectors.load_word2vec_format(f\"/Users/zhujiaqi/Downloads/data 2/GLOBALISE_100.word2vec\")"
   ]
  },
  {
   "cell_type": "markdown",
   "id": "5f2bf67a",
   "metadata": {},
   "source": [
    "### Analyzing the Corpus"
   ]
  },
  {
   "cell_type": "markdown",
   "id": "52ad3787",
   "metadata": {},
   "source": [
    "Below are some examples of how to use the model. You can substitute the words with any word you like, as long as it is in the vocabulary of the model/corpus. Everything needs to be in lowercase. See the Gensim documentation for more information on how to use the Word2Vec model: https://radimrehurek.com/gensim/models/word2vec.html.\n",
    "\n",
    "The first cells use the most_similar function from the Word2Vec model (w2v) to find and print the topn most similar words to a given word."
   ]
  },
  {
   "cell_type": "code",
   "execution_count": 2,
   "id": "4f17acc8",
   "metadata": {},
   "outputs": [
    {
     "name": "stdout",
     "output_type": "stream",
     "text": [
      "pantchialling | pantjall | dehaij | pantch | depantjall | patchiall | pantchiall | challang | debijl | noodhulp | goudsoeker | pantsch | haaij | tapko | pantchialt | jaarvogel | depantchiall | jongedirk | buijtel | krankte | windbuijl | depantjallang | patchiallang | zuykermaalder | pantchallang | depantch | onbeschaamdh | copjagt | chialling | patchalling | boshaan | pantchiallings | salpetersoeker | overmaas | pantjalang | bonneratte | chialop | onbeschaamtheijt | pantc | patchall | patjallang | arnoldina | losboots | pantchall | desnoek | zijdeteeld | woelwater | suijkermaalder | bancq | depatchiall | kruisser | depant | debarcq | nacheribon | sorgdrager | zijdewoom | glisgis | beschutter | vantchiall | delosboot | garnaal | chailoup | beschermer | zordaan | galwet | casuaris | pandjallang | casuarus | pantj | schipio | galeij | oostendenaer | ontang | patch | burk | losboot | smapt | panthialling | bethij | breguantijn | depatch | coffijthuijn | pantsjall | contong | moesthuijn | ramsgatte | jallang | zuijerbeek | onbeschaamtheijd | pantchalling | panthiallang | pittoor | zuijkermaalder | chialoop | tanjongpour | vrctoria | vesuvius | pinxterbloem | chiloup | pantschiallang | "
     ]
    }
   ],
   "source": [
    "for i in w2v.most_similar(\"pantchialang\", topn=100):\n",
    "    print(i[0], end=\" | \")"
   ]
  },
  {
   "cell_type": "code",
   "execution_count": 3,
   "id": "38db0681",
   "metadata": {},
   "outputs": [
    {
     "name": "stdout",
     "output_type": "stream",
     "text": [
      "jntje | maleijer | dul | maleyer | anachoda | bappa | salim | jntie | malijer | malaijer | malim | boeginees | jurragan | parnakan | iavaan | iuragan | intie | cadier | sadulla | carim | mochamat | abdul | samat | parnackan | javaan | arabier | assan | nachoda | javaen | soedin | bouginees | mohamat | abdulla | achmat | talip | iurragan | inw | kinko | balier | zait | jnw | lim | sleman | juragan | saijit | garrang | rahim | bagus | oeij | tjina | anach | njo | jabar | boeang | tjan | mahama | karim | boeijong | aboe | jnwoonder | ganie | campar | tja | garang | balijer | troena | kamat | mallijer | anak | chin | sait | cassim | machoda | boejong | soekoer | roekoe | nio | samara | oemar | poea | lebe | hoko | miskien | vrijbalier | maijang | hoeko | salee | sech | samsoe | boegenees | naghoda | koko | gonting | tenoedin | mandarees | oesien | troeno | draman | sinko | jamal | "
     ]
    }
   ],
   "source": [
    "for i in w2v.most_similar(\"intje\", topn=100):\n",
    "    print(i[0], end=\" | \")"
   ]
  },
  {
   "cell_type": "code",
   "execution_count": 4,
   "id": "0cb30dd5",
   "metadata": {},
   "outputs": [
    {
     "name": "stdout",
     "output_type": "stream",
     "text": [
      "canneel | arreecq | arreeck | cardamom | geschilden | balen | cardaman | cardamon | areecq | arreek | geschilt | overjarigen | areek | geschilde | ruijnas | bast | kurkuma | wortelen | wortel | cardemom | cannel | saffragamse | arreeq | groven | jndigo | incorrecte | ammenams | schelders | plantjes | curcuma | areeck | ougsten | affpacken | zaije | runas | schillens | moernagelen | cauwa | wortels | smakeloose | koehuijden | klenen | indigo | gekookten | zalpeter | canneer | saije | calpentijnsen | cragtelose | endeneese | canneelschilders | cheijlonsen | kannee | reuck | baelen | baalen | kanneel | pingos | sacken | varssen | anijl | ruinas | ammonams | tabacq | zaat | cauris | amm | ruias | cardanom | fijnen | cardamam | coffijbonen | cardamoin | arreck | bhaalen | zaijen | nagelen | caneell | embaleeren | bladeren | berberijen | coffijboonen | overjarige | kleenen | fordeelen | zaad | onrijpe | noten | pken | specerije | gamsen | geschild | caaneel | roggevellen | endeneesche | ingesamelden | oliteiten | peerlen | pepen | elijhanten | "
     ]
    }
   ],
   "source": [
    "for i in w2v.most_similar(\"caneel\", topn=100):\n",
    "    print(i[0], end=\" | \")"
   ]
  },
  {
   "cell_type": "markdown",
   "id": "173da332",
   "metadata": {},
   "source": [
    "The cell below finds the 100 most similar words to \"Amsterdam\" that have a similarity score of 0.4 or higher."
   ]
  },
  {
   "cell_type": "code",
   "execution_count": 5,
   "id": "e7c2fb02",
   "metadata": {},
   "outputs": [
    {
     "name": "stdout",
     "output_type": "stream",
     "text": [
      "sterdam | middelburg | amsterd | amst | zeeland | amster | amsterdm | amstm | rotterdam | delft | amsteldam | enkhuijsen | zeland | middelburgh | utrecht | ams | amsterda | amste | gravenhage | terdam | zeelant | zeiland | derwapen | enchuijsen | dam | delff | maddelburg | middelb | enckhuijsen | amstedam | enkhuijzen | aamsterdam | delfft | presidiale | enkhuisen | seeland | enckhuijzen | geredreseert | vlissingen | rdam | praesidiale | amsterdan | hage | costeux | zeelandt | wappan | hoorn | rotterdant | delburg | delf | delst | behangsels | inzeland | middelbrerg | enkhuizen | proefidiaale | praecidiale | ceulen | boodh | caamer | enckhuijs | dewees | behanghsel | amsterstam | temiddelburg | enkhuysen | zieland | alkmaar | meddelburg | cognoissemet | rotter | sdh | carode | uijtgevaren | middelburgin | kameer | delvt | leijden | zeel | praesideale | amstd | uijtregt | utregt | hoplooper | enchuy | terkamer | rabbinel | vlissinge | diale | kaner | veere | arnhem | confernee | praesidiaale | haarlem | kamier | enehuysen | siemermeer | middeburg | amstdam | "
     ]
    }
   ],
   "source": [
    "for i, p in w2v.most_similar(\"amsterdam\", topn=100):\n",
    "    if p >= 0.4:\n",
    "        print(i, end=\" | \")"
   ]
  },
  {
   "cell_type": "markdown",
   "id": "2bb242f4",
   "metadata": {},
   "source": [
    "The following cell again uses the most_similar function from the Word2Vec model (w2v), this time to find and print words similar to a given set of \"positive\" and \"negative\" terms. The vector representation of positive words contributes positively to the similarity computation, that of negative words negatively based on their vector relationships. In this example, we use this methods to find words similar to \"weder\" in the meaning of \"weather\", and not in the meaning of \"again\"."
   ]
  },
  {
   "cell_type": "code",
   "execution_count": 6,
   "id": "8ec2e6dc",
   "metadata": {},
   "outputs": [
    {
     "name": "stdout",
     "output_type": "stream",
     "text": [
      "weir | reegen | wint | zeewint | lugt | windt | noorde | winden | waaijende | stroom | buijen | winde | sneeuw | doorwaijen | zuijde | lucht | regenbuijen | waijende | wind | coeltjens | suijdweste | koude | vlagen | handsaem | weerligt | dewind | regenagtig | tegenstroom | doorwaijende | sonneschijn | regenen | stilte | koelte | regens | coelte | lught | hitte | stijve | lughje | zeewind | wintje | weste | warme | onstuijmig | reegenen | stroomen | koelten | zonnestraalen | delugt | warmte | handsaam | buijdige | travaden | doorbreken | inbreeken | moussom | doorwaaijende | reegende | travadig | doorstaande | doorkomende | hette | buijig | luchje | felle | afwatering | starke | kentering | overdag | stormwinden | reegens | wzw | westelijke | vloet | variable | coeltje | calte | tegenwinden | ooste | goedweer | oostelijke | noordweste | zot | waaijde | deijning | aartrijk | noordelijk | valwinden | ongestadige | doorwaaijen | slijve | suijde | caelte | lugties | firmament | regende | coeste | travodig | coelende | doorbrake | "
     ]
    }
   ],
   "source": [
    "for i in w2v.most_similar(\n",
    "    positive=[\"weder\", \"weer\", \"regen\"], negative=[\"wederom\", \"alweder\"], topn=100\n",
    "):\n",
    "    print(i[0], end=\" | \")"
   ]
  },
  {
   "cell_type": "markdown",
   "id": "9e18c5ca",
   "metadata": {},
   "source": [
    "Ships in the Dutch East India Company (VOC) fleet were often named after places. The following cell uses the closer_than function to find all words in the Word2Vec model’s vocabulary whose vector representations are closer to a specified word (\"eendracht\", here meant as the name of a ship) than to another word (\"tilburg\", in this example meant as the name of a place) in terms of cosine similarity. This helps to identify words that share a stronger contextual association with \"eendracht\" (ship) compared to \"tilburg\" (place) and thus ideally filter out terms referring to places, yielding a list of potential ship names, or at least words that are more likely to be associated with ships."
   ]
  },
  {
   "cell_type": "code",
   "execution_count": 7,
   "id": "3a8d259d",
   "metadata": {},
   "outputs": [
    {
     "name": "stdout",
     "output_type": "stream",
     "text": [
      "ende | naer | oock | noch | int | nae | schepen | retour | vant | camer | gecomen | fluijt | volck | becomen | welck | jacht | hoorn | japan | rotterdam | coninck | ditto | jagt | wint | compe | godt | lant | eijlanden | derwaerts | end | vertreck | landt | goa | geladen | stadt | tschip | bat | comende | maent | opt | chaloup | maecken | ladinge | japara | delft | oocq | gearriveert | genaemt | gemaeckt | weijnich | coningh | rhede | langh | waermede | daermede | ene | macht | ancker | originele | jnt | eijlant | nassauw | augustij | vrede | quartieren | wapen | voijagie | cattij | middagh | achter | opde | vaderlant | portugees | geseijde | leeuw | dirck | cargasoen | verwachten | mauritius | rijck | chialoep | dach | namentlijck | eijlandt | geladene | vlissingen | jachten | battavia | gelyck | seecker | wingurla | gescheept | amst | portugesen | iapan | comste | stondt | nederlants | arent | nacht | vercocht\n"
     ]
    }
   ],
   "source": [
    "words = w2v.closer_than(\"eendracht\", \"tilburg\")\n",
    "\n",
    "output = \" | \".join(words[:100])\n",
    "\n",
    "print(output)"
   ]
  },
  {
   "cell_type": "markdown",
   "id": "cbbebfc0",
   "metadata": {},
   "source": [
    "Analogy generation can provide insights about historical semantics and how certain terms relate to one another in specific domains. To do this, you can use the most_similar with a combination of \"positive\" and \"negative\" word vectors. For example, running the following cell yields the ten best fitting words (based on their vector respresentation) for the analogy \"noten is to banda as [X] is to ceylon\"."
   ]
  },
  {
   "cell_type": "code",
   "execution_count": 8,
   "id": "c6f9f59a",
   "metadata": {},
   "outputs": [
    {
     "name": "stdout",
     "output_type": "stream",
     "text": [
      "'noten' is to 'banda' as the following are to 'ceylon':\n",
      "cardamon (similarity: 0.5871)\n",
      "baalen (similarity: 0.5764)\n",
      "ruijnas (similarity: 0.5662)\n",
      "baaltjes (similarity: 0.5633)\n",
      "kardamom (similarity: 0.5629)\n",
      "chiancossen (similarity: 0.5529)\n",
      "cardamam (similarity: 0.5451)\n",
      "wortelen (similarity: 0.5399)\n",
      "caneel (similarity: 0.5394)\n",
      "cardaman (similarity: 0.5378)\n"
     ]
    }
   ],
   "source": [
    "results = w2v.most_similar(positive=[\"noten\", \"ceylon\"], negative=[\"banda\"], topn=10)\n",
    "\n",
    "print(\"'noten' is to 'banda' as the following are to 'ceylon':\")\n",
    "for word, similarity in results:\n",
    "    print(f\"{word} (similarity: {similarity:.4f})\")"
   ]
  },
  {
   "cell_type": "code",
   "execution_count": 20,
   "id": "d5c434f6",
   "metadata": {},
   "outputs": [
    {
     "name": "stdout",
     "output_type": "stream",
     "text": [
      "jnlander | lander | cerammer | sluijkhandel | amboinees | landbouw | inlanden | smokkelhandel | landman | jnlanden | goudhandel | koophandel | handelaar | sluikhandel | perkenier | palembanger | morshandel | opstand | tidorees | aanvoer | boniers | bovenlander | haat | aard | kooplie | dader | schadelijken | rebel | aanqueek | landaard | aanplant | afval | handel | vijand | indrang | radjja | maccassaar | eijgenaar | bergvolkeren | inzaam | insaam | ternataan | sluijker | groeij | dekmantel | vyand | inlan | gorammees | palembangers | aart | mallabaaren | coophandel | cochimder | ommegang | arbeid | jnlanders | inlanders | invoer | pagter | traagen | eerstgetekende | toeleg | daader | limbotters | wistend | jnsaam | perkeniers | trevancoorder | klinkenbergh | cerammers | verkooper | sluijkerij | thinhandel | orangkaij | panticulieren | eertijds | knevelarijen | oudsher | eurwijn | wapenhandel | leverancier | peperhandel | aick | onoplettendhijd | besitter | gehaten | wantrouwen | oproer | aangebooren | kooning | stremming | cochinder | landaart | afkeer | papoesen | gorontaalders | practicabee | vreemdeling | aanbreng | keijzer | "
     ]
    }
   ],
   "source": [
    "# use it to find my keywords:\n",
    "for i in w2v.most_similar(\"inlander\", topn=100):\n",
    "    print(i[0], end=\" | \")"
   ]
  },
  {
   "cell_type": "code",
   "execution_count": 33,
   "id": "5028c2f9",
   "metadata": {},
   "outputs": [
    {
     "name": "stdout",
     "output_type": "stream",
     "text": [
      "jnlander | lander | cerammer | sluijkhandel | "
     ]
    }
   ],
   "source": [
    "for i, p in w2v.most_similar(\"inlander\", topn=100):\n",
    "    if p >= 0.7:\n",
    "        print(i, end=\" | \")"
   ]
  },
  {
   "cell_type": "code",
   "execution_count": 22,
   "id": "59330f0c",
   "metadata": {},
   "outputs": [
    {
     "name": "stdout",
     "output_type": "stream",
     "text": [
      "mentor | bodtland | ritthem | jndiaan | aschat | groenendaal | sparenryk | bovenkerkerpolder | lekkerland | keukenhoff | woestduijn | schoonzigt | held | behemoth | vreedenhoff | ouderamstel | oostcappelle | marienbosch | keukenhof | meerenberg | leijmuijden | orangezaal | hoolwerff | lijcochton | hoolwerf | zeekerlust | velzen | noordbeveland | lycochton | baarsande | arnesteijn | vreeburg | sparenrijk | lapienenburg | honcoop | leekerlust | westfriesland | elswout | blyenburg | zuijdbeveland | canaan | oosterbeek | amelisweert | immagonda | gravesande | alkemade | giesenburg | renswoude | wildrijk | vreedestein | voorberg | woltemade | patriot | ysselmonde | zeeuw | hersteller | zeeduyn | mercuur | schoonsigt | baarzande | huijgewaard | woestduin | duynenburg | vredelust | botland | buijtensorg | noordnieuwland | stavenisse | zeeduijn | morgenster | blijenburg | hoogcarspel | jmmagonda | hinloopen | antoinetta | geijnwensch | cattendijke | ijstroom | houtlust | bothland | oostzaandam | spaarenrijk | ystroom | nieuwalcheren | oostcapelle | iuno | senburg | suijderburg | overhout | nieuwrhoon | juno | bleijswijk | welgeleegen | blijswijk | nijenburg | bleiswijk | blydorp | akerendam | texelstroom | osdorp | "
     ]
    }
   ],
   "source": [
    "for i in w2v.most_similar(\"indiaan\", topn=100):\n",
    "    print(i[0], end=\" | \")"
   ]
  },
  {
   "cell_type": "code",
   "execution_count": 35,
   "id": "4a01355a",
   "metadata": {},
   "outputs": [
    {
     "name": "stdout",
     "output_type": "stream",
     "text": [
      "mentor | bodtland | ritthem | jndiaan | aschat | "
     ]
    }
   ],
   "source": [
    "for i, p in w2v.most_similar(\"indiaan\", topn=100):\n",
    "    if p >= 0.9:\n",
    "        print(i, end=\" | \")"
   ]
  },
  {
   "cell_type": "code",
   "execution_count": 43,
   "id": "8bf75a32",
   "metadata": {},
   "outputs": [
    {
     "name": "stdout",
     "output_type": "stream",
     "text": [
      "jndia (similarity: 0.7343)\n",
      "jndien (similarity: 0.5633)\n",
      "indie (similarity: 0.4925)\n",
      "naijors (similarity: 0.4878)\n",
      "schapevlees (similarity: 0.4730)\n",
      "amboina (similarity: 0.4570)\n",
      "macassar (similarity: 0.4334)\n",
      "astisen (similarity: 0.4334)\n",
      "elick (similarity: 0.4303)\n",
      "padangees (similarity: 0.4283)\n"
     ]
    }
   ],
   "source": [
    "results = w2v.most_similar(positive=[\"chinesen\", \"india\"], negative=[\"chine\"], topn=10)\n",
    "\n",
    "#print(\"'chinesen' is to 'china' as the following are to 'india':\")\n",
    "for word, similarity in results:\n",
    "    print(f\"{word} (similarity: {similarity:.4f})\")"
   ]
  },
  {
   "cell_type": "code",
   "execution_count": 24,
   "id": "2e65eac9",
   "metadata": {},
   "outputs": [
    {
     "name": "stdout",
     "output_type": "stream",
     "text": [
      "icy | attire | ommerce | sublimat | tartari | angers | diaphor | fois | prunella | armeni | nitr | arist | sulphuris | vivum | metallor | mercur | martis | bolontas | ruba | pectoralis | theriacalis | sacchar | croc | camomille | chymicalia | traitter | casum | rubri | radicum | liquiriti | diaphoretici | sperma | jacinto | coralli | florum | usti | saturn | restaurativi | saturni | corall | diapomphol | syrup | precipitat | flores | xabandar | ocul | resina | osti | croci | nitri | pracipitat | antimon | dulci | sijrup | capitis | digestivum | salutis | cantharides | radices | succi | nitrum | damages | perilla | papel | vivi | rotund | comum | emetic | juniperi | mercury | sulphur | squinanthi | faniculi | vitril | praecipit | cyperis | mineralia | dialthea | senao | evitar | defensiv | oysent | antimony | apostolor | emplastra | juniper | pello | pleurit | iiij | condensati | vitx | sublimati | quando | dulcis | warr | vitriolum | aluminis | cinamomi | rosar | salle | "
     ]
    }
   ],
   "source": [
    "# use it to find my keywords:\n",
    "for i in w2v.most_similar(\"tartar\", topn=100):\n",
    "    print(i[0], end=\" | \")"
   ]
  },
  {
   "cell_type": "code",
   "execution_count": 37,
   "id": "025da3a5",
   "metadata": {},
   "outputs": [
    {
     "name": "stdout",
     "output_type": "stream",
     "text": [
      "nderijen | ngrebel | thansjerbs | mainre | mell | cancr | corall | meinertshagen | tartr | cervi | usti | ung | androm | absinthi | obstruction | anglic | taxtr | ceti | natri | fulbagh | cutta | hammer | proofs | incipaal | wellengrebel | sennae | vulg | warr | nimium | rubrie | lude | stieur | zhagen | sucur | seize | empl | dulcis | brought | bleveren | crets | antimon | nitri | ocul | bolontas | brekn | tart | rubr | previouslij | opiata | palat | cancri | payent | indicis | gtig | leijning | camphorati | trade | officer | thenius | benedict | fredik | gedaghde | halveaams | herb | succi | dion | mercur | tul | absinth | electuaria | albi | atque | pietn | rosar | viv | precipit | successors | cornu | damstad | lunsoiko | lemberg | croci | juniperi | pretn | theriac | kuwer | schordium | succin | rub | cantharidum | professed | vitriol | gielgieter | canori | doubt | siebagh | nitr | bolus | informed | heijsing | "
     ]
    }
   ],
   "source": [
    "for i in w2v.most_similar(\n",
    "    positive=[\"tartar\", \"csar\"], negative=[\"chinesen\"], topn=100\n",
    "):\n",
    "    print(i[0], end=\" | \")"
   ]
  },
  {
   "cell_type": "code",
   "execution_count": 45,
   "id": "6926bc42",
   "metadata": {},
   "outputs": [
    {
     "name": "stdout",
     "output_type": "stream",
     "text": [
      "armeender (similarity: 0.6817)\n",
      "benjaan (similarity: 0.6816)\n",
      "mahamet (similarity: 0.6808)\n",
      "welbekenden (similarity: 0.6807)\n",
      "neijk (similarity: 0.6776)\n",
      "mamet (similarity: 0.6745)\n",
      "gepretendeerden (similarity: 0.6688)\n",
      "vermogenden (similarity: 0.6609)\n",
      "perie (similarity: 0.6575)\n",
      "rasia (similarity: 0.6564)\n"
     ]
    }
   ],
   "source": [
    "results = w2v.most_similar(positive=[\"mogol\", \"chine\"], negative=[\"india\"], topn=10)\n",
    "\n",
    "for word, similarity in results:\n",
    "    print(f\"{word} (similarity: {similarity:.4f})\")"
   ]
  },
  {
   "cell_type": "code",
   "execution_count": 25,
   "id": "bf9b71ae",
   "metadata": {},
   "outputs": [
    {
     "name": "stdout",
     "output_type": "stream",
     "text": [
      "neijck | veltheer | koningh | koninck | magol | conink | coningh | souba | keijser | madureer | konink | serlaskeer | coninck | mogolsen | veldheer | viceroij | nabab | onderkoning | teuver | tansjouwer | dessaij | ragie | lantregent | keyser | conincq | duan | hovs | golcondasen | mogolse | sousouhounangh | zultan | ijman | naik | naijck | ambassadeur | alemgier | lammorijn | bewintsman | visiapour | sultan | stedehouder | oija | rijcxvertrouwder | neijk | mogoe | nawab | assetchan | naick | tidorees | sousouhounan | coning | bhadur | samorijn | jafferbeek | mandorijn | maduresen | fausdaer | hoffs | nogol | sousouhounang | sullan | usurpateur | rijxcancelier | oorlogh | tansjour | mataram | balnoor | furst | carorij | mochol | visiapoer | bekenden | jman | zouba | argie | bab | patrianch | ambassad | nabad | soone | eurang | maijsoerder | harraij | miersa | grootmaghtigsten | haweldaar | regerenden | sangerasoe | rijxcancellier | sousouh | veltoversten | beglerbegie | vorst | keijzer | nabas | ambass | mattaram | cassum | egosie | siamsen | "
     ]
    }
   ],
   "source": [
    "# use it to find my keywords:\n",
    "for i in w2v.most_similar(\"mogol\", topn=100):\n",
    "    print(i[0], end=\" | \")"
   ]
  },
  {
   "cell_type": "code",
   "execution_count": 26,
   "id": "76867924",
   "metadata": {},
   "outputs": [
    {
     "name": "stdout",
     "output_type": "stream",
     "text": [
      "toepas | parrua | tambij | mira | pulle | bellale | chego | marcair | lebe | marcaar | moetoe | neijna | tambie | francisco | chinne | diogo | cannarijn | lebbe | baba | marca | manuel | agamadoe | perie | mocqua | segoe | tambi | saviel | moddeliaar | marka | peria | pedro | tandel | magoedoe | coenje | canarijn | chittiaar | inwoonder | miera | rodrigo | fernando | moettoe | costa | christen | moessa | marcar | chiawa | domingo | poele | cadir | ismael | markair | mattoe | ignatio | rodrigues | lascorijn | paap | morais | neina | naghoda | gomes | kroes | moors | wierappa | croes | mendis | nina | estevan | manico | mamoe | pacheco | cheg | salvadoor | woonder | tamba | sittij | wannia | andrado | armeender | mapule | portugees | welappa | perera | nachoda | jsmael | aija | naina | ramenaden | genaemd | fransisco | coenja | araatja | chitti | pasquaal | moesa | mara | nijna | henriques | packier | souza | istovo | "
     ]
    }
   ],
   "source": [
    "# use it to find my keywords:\n",
    "for i in w2v.most_similar(\"moor\", topn=100):\n",
    "    print(i[0], end=\" | \")"
   ]
  },
  {
   "cell_type": "code",
   "execution_count": 40,
   "id": "3c503ce4",
   "metadata": {},
   "outputs": [
    {
     "name": "stdout",
     "output_type": "stream",
     "text": [
      "chittiaar | allagappa | moessa | gowinda | tamba | cannarijn | moesa | aijen | renga | dassalam | pattere | aija | pokoe | moettoe | chitty | moetoe | marka | camottij | ramaija | segoe | moddeliaar | narna | sinaij | kadier | marca | pockoe | modelliaar | pattare | mahamadoe | ramana | mapule | pandiet | antha | coenja | waijrewenaden | assena | sinai | baba | peroemaal | seijdoe | canarijn | soubedaar | christna | kader | pulle | coenjen | waledde | packier | ismael | coenje | troesjappa | magoedoe | jsmael | coemara | goodja | moetia | poij | kallonde | chitti | vincenti | wengatessa | ragoe | marcar | pietje | tambi | itij | waijrewen | lebe | abdulla | nagamaloe | sittij | anawij | cammottij | afdul | chrisna | duga | fagger | keja | pinna | alegappa | adda | nelle | chinne | carimbalij | miera | tiagappa | talwaij | agamadoe | chego | simha | panda | wenga | meloersen | lattare | kanarijn | maliakel | matarda | anta | chettij | narana | "
     ]
    }
   ],
   "source": [
    "for i in w2v.most_similar(\n",
    "    positive=[\"moor\", \"mohammed\"], negative=[\"indianen\"], topn=100\n",
    "):\n",
    "    print(i[0], end=\" | \")"
   ]
  },
  {
   "cell_type": "code",
   "execution_count": 27,
   "id": "6c263c53",
   "metadata": {},
   "outputs": [
    {
     "name": "stdout",
     "output_type": "stream",
     "text": [
      "parring | houwer | tong | pistool | snaphaen | piek | beene | hembd | steek | kris | schouder | scheede | knie | raam | rottang | crits | schijf | baatje | louten | assagaijen | cromme | neusdoek | assegaaij | pijp | kapmes | musg | keel | hemd | rok | kleetje | knip | schede | assegaij | piering | camisool | aangezigt | beentje | koeij | koogel | kuijt | dozijn | koker | balie | krits | nek | kouw | lincker | springende | kerrij | cooij | kirrij | gesleepen | meszen | kromme | bijl | buijksnijder | kluijtjes | klingen | zijdgeweer | schoen | hangslot | dop | pieck | instucken | draij | trompet | snaphan | rock | linken | kogel | vuursteene | busse | sweep | sabels | kooker | kit | draaij | tang | muts | pennemes | rotting | raem | scheden | kruijthoorn | rooster | vermoor | wangh | spitsen | bakje | gudsen | fiool | lantaarn | lint | ijvore | bocaalen | brandende | messen | slang | kuijl | asch | "
     ]
    }
   ],
   "source": [
    "# use it to find my keywords:\n",
    "for i in w2v.most_similar(\"kling\", topn=100):\n",
    "    print(i[0], end=\" | \")"
   ]
  },
  {
   "cell_type": "code",
   "execution_count": 29,
   "id": "7fbc40bd",
   "metadata": {},
   "outputs": [
    {
     "name": "stdout",
     "output_type": "stream",
     "text": [
      "veijld | vist | persufficant | vairdigd | vischt | schreevene | vairdigt | dragene | draagpointen | pakt | veijlde | moedigd | togene | veilt | swollen | venele | vaerdigt | vaardigt | schrevene | tananqua | schrikt | spoort | stokene | steldt | naamheijt | vaardigd | kundigd | legene | nieuwd | spoelt | matigt | packt | broken | boekt | dwaalde | udes | vult | haald | pinterhaak | zet | moedigt | stentenis | legde | vaerdigd | reekende | veerdigt | ensijde | spoelde | bragd | worpene | raapte | stelt | schuurden | plakt | steld | roerd | camphuijser | gavn | derslooten | naamst | vairdigde | stoken | perste | shellen | bouwl | zeegeld | timmerde | togen | booben | roerde | eijgenl | cappell | malaccq | genrig | stapelt | bestige | discht | bouwt | noome | mederge | set | matigd | laern | enwaaromme | gedatacheerde | making | nieuwde | zonderd | drukte | bragtene | derschen | scheept | daagt | revoir | vaardight | huurd | witmons | zeeteren | naamer | vaerdight | "
     ]
    }
   ],
   "source": [
    "# use it to find my keywords:\n",
    "for i in w2v.most_similar(\"toradjeners\", topn=100):\n",
    "    print(i[0], end=\" | \")"
   ]
  }
 ],
 "metadata": {
  "kernelspec": {
   "display_name": "Python (myenv)",
   "language": "python",
   "name": "myenv"
  },
  "language_info": {
   "codemirror_mode": {
    "name": "ipython",
    "version": 3
   },
   "file_extension": ".py",
   "mimetype": "text/x-python",
   "name": "python",
   "nbconvert_exporter": "python",
   "pygments_lexer": "ipython3",
   "version": "3.8.19"
  }
 },
 "nbformat": 4,
 "nbformat_minor": 5
}
